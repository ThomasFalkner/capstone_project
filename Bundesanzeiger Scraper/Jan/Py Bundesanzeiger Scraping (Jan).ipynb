{
 "cells": [
  {
   "cell_type": "markdown",
   "metadata": {},
   "source": [
    "# Bundesanzeiger Scraping\n",
    "\n",
    "Der folgende Code scraped die Webseite https://www.bundesanzeiger.de/. "
   ]
  },
  {
   "cell_type": "markdown",
   "metadata": {},
   "source": [
    "## Imports:"
   ]
  },
  {
   "cell_type": "code",
   "execution_count": 1,
   "metadata": {},
   "outputs": [],
   "source": [
    "# for html network requests and parsing:\n",
    "from bs4 import BeautifulSoup\n",
    "import requests\n",
    "# for displaying the captcha images:\n",
    "from PIL import Image\n",
    "from io import BytesIO\n",
    "from IPython.display import display, HTML\n",
    "from IPython.display import clear_output\n",
    "# for file importing and exporting:\n",
    "import csv\n",
    "import pandas as pd\n",
    "import json\n",
    "import os\n",
    "# for waiting: \n",
    "from datetime import datetime\n",
    "import time\n",
    "# other:\n",
    "import re # regex\n",
    "#from pathlib import Path\n",
    "\n",
    "import pytesseract\n",
    "import sys\n",
    "import argparse\n"
   ]
  },
  {
   "cell_type": "markdown",
   "metadata": {},
   "source": [
    "## Globale Variablen:"
   ]
  },
  {
   "cell_type": "code",
   "execution_count": 2,
   "metadata": {},
   "outputs": [],
   "source": [
    "session_requests = requests.session()\n",
    "session_id = \"\"\n",
    "debug_prints = False"
   ]
  },
  {
   "cell_type": "markdown",
   "metadata": {},
   "source": [
    "# Funktionen:"
   ]
  },
  {
   "cell_type": "markdown",
   "metadata": {},
   "source": [
    "## get_search_results\n",
    "\n",
    "Diese Funktion stellt eine Anfrage an die Suchmaske von https://www.bundesanzeiger.de/ und gibt die Ergebnistabelle als Dataframe zurück.\n",
    "\n",
    "Diese Funktion wird direkt aufgerufen."
   ]
  },
  {
   "cell_type": "code",
   "execution_count": 71,
   "metadata": {
    "scrolled": true
   },
   "outputs": [],
   "source": [
    "def get_search_results(search_string):\n",
    "    global session_id\n",
    "    global debug_prints\n",
    "    # genericsearch_param.part_id: 22 is for just Jahresabschlüsse\n",
    "    payload = {'page.navid': 'to_detailsearch', 'global_data.designmode': 'eb', '(page.navid=to_quicksearchlist)': 'Suchen', 'genericsearch_param.part_id': '22', 'genericsearch_param.hitsperpage': '10'}\n",
    "    payload.update({'genericsearch_param.fulltext': search_string})\n",
    "    if session_id != \"\":\n",
    "        payload.update({'session.sessionid': session_id})\n",
    "\n",
    "    url = 'https://www.bundesanzeiger.de/ebanzwww/wexsservlet'\n",
    "    time.sleep(0.33) # wait some seconds before the next request, to not overwhelm the server\n",
    "    result = session_requests.get(url, params = payload)\n",
    "    if debug_prints:\n",
    "        print(\"get_searchresults url:\", result.url)\n",
    "        print(\"get_searchresults returned:\", result.status_code, result.headers['content-type'])\n",
    "\n",
    "    # Get html content\n",
    "    soup = BeautifulSoup(result.text, \"lxml\")\n",
    "    # Parse for session id, update variable\n",
    "    session_id = soup.find('a', href=True)['href']\n",
    "    session_id = session_id[session_id.find(\"session.sessionid=\")+len(\"session.sessionid=\"):session_id.find(\"&\", session_id.find(\"session.sessionid=\"))]\n",
    "    if debug_prints:\n",
    "        print(\"session_id:\", session_id)\n",
    "\n",
    "    # Parse html content \n",
    "    result_table = soup.find(\"table\", attrs={\"class\": \"result\", \"summary\": \"Trefferliste\"})\n",
    "    rows = result_table.find_all(\"tr\")\n",
    "    table_contents = []\n",
    "    for tr in rows:\n",
    "        # header row\n",
    "        if rows.index(tr) == 0 : \n",
    "            row_cells = [ th.getText(separator=\" \").strip() for th in tr.find_all('th') if th.getText().strip() != '' ] + [\"session.sessionid=\", \"fts_search_list.selected\", \"fts_search_list.destHistoryId\", \"timestamp\"] \n",
    "        # data rows\n",
    "        else : \n",
    "            # get 'th' element text\n",
    "            row_cells = ([ tr.find('th').getText(separator=\" \") ] if tr.find('th') else [] ) + \\\n",
    "            [ td.getText(separator=\" \").strip() for td in tr.find_all('td') if td.getText().strip() != '' ] + \\\n",
    "            [ a['href'][a['href'].find(\"session.sessionid=\")+len(\"session.sessionid=\"):a['href'].find(\"&\", a['href'].find(\"session.sessionid=\"))] for a in tr.find_all('a', href=True)] + \\\n",
    "            [ a['href'][a['href'].find(\"fts_search_list.selected=\")+len(\"fts_search_list.selected=\"):a['href'].find(\"&\", a['href'].find(\"fts_search_list.selected=\"))] for a in tr.find_all('a', href=True)] + \\\n",
    "            [ a['href'][a['href'].find(\"fts_search_list.destHistoryId=\")+len(\"fts_search_list.destHistoryId=\"):] for a in tr.find_all('a', href=True)] + \\\n",
    "            [ time.ctime() ]\n",
    "        if len(row_cells) > 1 : \n",
    "            table_contents += [ row_cells ]\n",
    "    \n",
    "    # Convert to dataframe and set first row as headers\n",
    "    df = pd.DataFrame.from_dict(table_contents)\n",
    "    df.columns = df.iloc[0]\n",
    "    df = df[1:]\n",
    "    return df"
   ]
  },
  {
   "cell_type": "markdown",
   "metadata": {},
   "source": [
    "## get_captcha\n",
    "\n",
    "Bevor eine Dokumentenanfrage mit dem gewünschen Ergebnis beantwortet wird, muss der User ein Captcha lösen. Hier wird die Lösung dem Nutzer gezeigt und seine Eingabe verlangt.\n",
    "\n",
    "Diese Funktion wird von get_document aufgerufen."
   ]
  },
  {
   "cell_type": "code",
   "execution_count": 72,
   "metadata": {},
   "outputs": [],
   "source": [
    "def get_captcha(session_id):\n",
    "    global debug_prints\n",
    "    payload = {'state.action':'captcha','captcha_data.mode':'image'}\n",
    "    payload.update({'session.sessionid': session_id})\n",
    "    url = 'https://www.bundesanzeiger.de/ebanzwww/contentloader'\n",
    "    result = session_requests.get(url, params = payload)\n",
    "    if debug_prints:\n",
    "        print(\"get_captcha url\", result.url)\n",
    "        print(\"get_captcha returned:\", result.status_code, result.headers['content-type'])\n",
    "    \n",
    "    if result.headers['content-type'] == \"image/jpeg\":\n",
    "        img = Image.open(BytesIO(result.content))\n",
    "        display(img)\n",
    "        print(\"script\")\n",
    "        #!python captcha_resolver.py\n",
    "        solve_captcha(img)\n",
    "        print(\"script_done\")\n",
    "        print('Please solve this captcha. To cancel, type \"exit\"')\n",
    "        captcha_solution = \"\"\n",
    "        captcha_solution = input()\n",
    "        return captcha_solution\n",
    "    else:\n",
    "        print(\"no image returned\")\n",
    "        return \"\""
   ]
  },
  {
   "cell_type": "markdown",
   "metadata": {},
   "source": [
    "## get_document\n",
    "\n",
    "Mit dieser Funktion werden Dokumente abgerufen und deren HTML-Inhalt zurückgegeben. Dabei wird auch das vorgeschaltete Captcha beachtet und über get_captcha dem Nutzer gezeigt und abgefragt."
   ]
  },
  {
   "cell_type": "code",
   "execution_count": 73,
   "metadata": {
    "scrolled": true
   },
   "outputs": [],
   "source": [
    "def get_document(search_list_selected, search_list_destHistoryId):\n",
    "    global session_id\n",
    "    global debug_prints\n",
    "    payload = {'page.navid':'detailsearchlisttodetailsearchdetail'}\n",
    "    payload.update({'session.sessionid': session_id})\n",
    "    payload.update({'fts_search_list.selected': search_list_selected})\n",
    "    payload.update({'fts_search_list.destHistoryId': search_list_destHistoryId})\n",
    "    url = 'https://www.bundesanzeiger.de/ebanzwww/wexsservlet'\n",
    "    time.sleep(2) # wait 2 seconds before the next request, to not overwhelm the server\n",
    "    result = session_requests.get(url, params = payload)\n",
    "    if debug_prints:\n",
    "        print(\"get_details url:\", result.url)\n",
    "        print(\"get_details returned:\", result.status_code, result.headers['content-type'])\n",
    "\n",
    "    # Parse the html content\n",
    "    soup = BeautifulSoup(result.text, \"lxml\")\n",
    "    # Parse for session id, update variable\n",
    "    session_id = soup.find('a', href=True)['href']\n",
    "    session_id = session_id[session_id.find(\"session.sessionid=\")+len(\"session.sessionid=\"):session_id.find(\"&\", session_id.find(\"session.sessionid=\"))]\n",
    "    # check if page has a captcha\n",
    "    if soup.find(\"div\", attrs={\"class\": \"image_captcha\"}) != None:\n",
    "        #print(\"Captcha found\")\n",
    "        captcha_found = True\n",
    "        captcha_solution = \"\"\n",
    "        captcha_solution = get_captcha(session_id)\n",
    "        #if captcha_solution == \"\" or captcha_solution == \"exit\":\n",
    "        if captcha_solution == \"exit\":\n",
    "            # if captcha was not solved\n",
    "            return \"exit\"\n",
    "        else:\n",
    "            # if captcha was solved, solution will be posted to server and response will be checked for new captcha\n",
    "            while captcha_found == True:\n",
    "                # POST captcha solution\n",
    "                post_payload = {\"genericsearch_param.part_id\":\"\",\"(page.navid=detailsearchdetailtodetailsearchdetailsolvecaptcha)\":\"OK\"}\n",
    "                post_payload.update({'session.sessionid': session_id})\n",
    "                post_payload.update({'captcha_data.solution': captcha_solution})\n",
    "                post_url = 'https://www.bundesanzeiger.de/ebanzwww/wexsservlet'\n",
    "                result = session_requests.post(post_url, data = post_payload)\n",
    "                if debug_prints:\n",
    "                    print(\"post_captcha url: \", result.url)\n",
    "                    print(\"post_captcha returned: \", result.status_code, result.headers['content-type'])\n",
    "                # Check for captcha again\n",
    "                soup = BeautifulSoup(result.text, \"lxml\")\n",
    "                # Parse for session id, update variable\n",
    "                session_id = soup.find('a', href=True)['href']\n",
    "                session_id = session_id[session_id.find(\"session.sessionid=\")+len(\"session.sessionid=\"):session_id.find(\"&\", session_id.find(\"session.sessionid=\"))]\n",
    "                # check if page has a captcha again\n",
    "                if soup.find(\"div\", attrs={\"class\": \"image_captcha\"}) != None:\n",
    "                    print(\"WRONG captcha, new captcha found -- PLEASE TRY AGAIN\")\n",
    "                    captcha_found = True\n",
    "                    captcha_solution = \"\"\n",
    "                    captcha_solution = get_captcha(session_id)\n",
    "                    #if captcha_solution == \"\" or captcha_solution == \"exit\":\n",
    "                    if captcha_solution == \"exit\":\n",
    "                        return \"exit\"\n",
    "                    # ... if a solution was provided by the user, the loop then starts again\n",
    "                else:\n",
    "                    captcha_found = False\n",
    "                    print(\"Captcha successfully solved!\")\n",
    "                    return soup\n",
    "                # ... loop starts again \n",
    "            return soup\n",
    "    else:\n",
    "        return soup"
   ]
  },
  {
   "cell_type": "code",
   "execution_count": 74,
   "metadata": {},
   "outputs": [],
   "source": [
    "def solve_captcha(image_captcha):\n",
    "    #try:\n",
    "     #   import Image\n",
    "    #except ImportError:\n",
    "    #    from PIL import Image\n",
    "    #from subprocess import check_output\n",
    "    print(\"solving\")\n",
    "\n",
    "    def resolve(image_captcha):\n",
    "        print(\"Resampling the Image\")\n",
    "        check_output([r\"C:\\Program Files\\ImageMagick-7.0.10-Q16-HDRI\\magick.exe\", image_captcha, '-resample', '600', image_captcha])\n",
    "        return pytesseract.image_to_string(Image.open(image_captcha))\n",
    "    display(image_captcha)\n",
    "\n",
    "    if __name__==\"__main__\":\n",
    "        #argparser = argparse.ArgumentParser()\n",
    "        #argparser.add_argument('path',help = 'Captcha file path')\n",
    "        #args = argparser.parse_args()\n",
    "        #path = args.path\n",
    "        print('Resolving Captcha')\n",
    "        captcha_text = resolve(image_captcha)\n",
    "        print('Extracted Text',captcha_text)"
   ]
  },
  {
   "cell_type": "markdown",
   "metadata": {},
   "source": [
    "# Ausführung:"
   ]
  },
  {
   "cell_type": "markdown",
   "metadata": {},
   "source": [
    "In den folgenden zwei Abschnitten passiert folgendes: \n",
    "* Abschnitt 1: get overview about companies from Kununu scraping\n",
    "    * Die Liste der Unternehmen eingelesen.\n",
    "    * Für diese Unternehmen wird die Suchfunktion ausgeführt, um die vorhandenen Dokumente bzw. Jahresabschlüsse zu scrapen.\n",
    "    * Die jeweiligen Suchergebnisse werden als csv exportiert. \n",
    "    \n",
    "    \n",
    "* Abschnitt 2: get overview about companies from Insolvency scraping\n",
    "    * Die Liste der Unternehmen eingelesen.\n",
    "    * Für diese Unternehmen wird die Suchfunktion ausgeführt, um die vorhandenen Dokumente bzw. Jahresabschlüsse zu scrapen.\n",
    "    * Die jeweiligen Suchergebnisse werden als csv exportiert. \n",
    "    \n",
    "    \n",
    "* Abschnitt 3: get documents of companies\n",
    "    * Die jeweiligen csv-Dateien werden eingelesen.\n",
    "    * Alle Jahresabschlüsse >= 2018 werden angefordert.\n",
    "    \n",
    "* Abschnitt 4: remove invalid documents\n",
    "    * Manchmal ist die Antwort des Servers, dass etwas fehlerhaft ist. Diese Dateien werden gelöscht."
   ]
  },
  {
   "cell_type": "markdown",
   "metadata": {},
   "source": [
    "### get overview about companies from kununu scraping"
   ]
  },
  {
   "cell_type": "code",
   "execution_count": 16,
   "metadata": {},
   "outputs": [
    {
     "name": "stdout",
     "output_type": "stream",
     "text": [
      "COMPANY: 100 / 11161 -- readdy GmbH\n",
      "Done!\n"
     ]
    }
   ],
   "source": [
    "# Einlesen der Liste aller Unternehmen\n",
    "\n",
    "with open('C:/Users/Jan/Documents/GitHub/capstone_project/Bundesanzeiger Scraper/Jan/Kopie_company_names_IT.json') as json_file:\n",
    "    company_names = json.load(json_file) \n",
    "\n",
    "\n",
    "debug_prints = False\n",
    "errors_occured = \"\"\n",
    "\n",
    "# for company name sanitizing\n",
    "keepcharacters = (' ','.','_', '-')\n",
    "\n",
    "if 'company_names' in globals() or 'company_names' in locals():\n",
    "    for company in company_names[:100]:\n",
    "        clear_output(wait=True)\n",
    "        print(\"COMPANY:\", company_names.index(company)+1, \"/\", len(company_names), \"--\", company)\n",
    "        # get search results\n",
    "        try:\n",
    "            if company != \"None\":\n",
    "                df = get_search_results(company)\n",
    "                df.to_csv('scraped_data/KUNUNU_'+\"\".join(c for c in company if c.isalnum() or c in keepcharacters).rstrip()+\".csv\", \\\n",
    "                    index=False, encoding='utf-8', sep=';', quoting=csv.QUOTE_ALL)\n",
    "        except Exception as e:\n",
    "            errors_occurred = errors_occured + repr(e) + \"at company \" + company + \"\\n\"\n",
    "            if debug_prints:\n",
    "                print('Some Error occured! Continue? y/y')\n",
    "                print(e)\n",
    "                test = input()\n",
    "            pass\n",
    "    \n",
    "    print(\"Done!\")\n",
    "    if errors_occured != \"\":\n",
    "        print(\"The following errors occured:\")\n",
    "        print(errors_occured)"
   ]
  },
  {
   "cell_type": "markdown",
   "metadata": {},
   "source": [
    "### get overview about companies from insolvency scraping"
   ]
  },
  {
   "cell_type": "code",
   "execution_count": 75,
   "metadata": {
    "scrolled": true
   },
   "outputs": [
    {
     "name": "stdout",
     "output_type": "stream",
     "text": [
      "Done!\n"
     ]
    }
   ],
   "source": [
    "#insolvency_companies = pd.read_pickle('../Insolvency Scraper/Insolvency/companies_--+Alle+Bundesl_E4nder+--.pkl')\n",
    "#insolvency_companies = pd.read_pickle('../Insolvency Scraper/Insolvency/companies_Hessen.pkl')\n",
    "\n",
    "debug_prints = False\n",
    "errors_occured = \"\"\n",
    "skip_item = False\n",
    "\n",
    "# for company name sanitizing\n",
    "keepcharacters = (' ','.','_', '-')\n",
    "counter = 1\n",
    "\n",
    "\n",
    "if 'insolvency_companies' in globals() or 'insolvency_companies' in locals():\n",
    "    for index, row in insolvency_companies.iterrows():\n",
    "        clear_output(wait=True)\n",
    "        print(\"COMPANY:\", counter, \"/\", len(insolvency_companies.index), \"--\", row['Company Name'])\n",
    "        counter = counter+1\n",
    "\n",
    "        # do not check for names!\n",
    "        if len(row['Company Name'].split()) > 3:\n",
    "            skip_item = False\n",
    "        elif ('GmbH' in row['Company Name']) or ('GbR' in row['Company Name']) or \\\n",
    "                ('AG' in row['Company Name']) or ('KG' in row['Company Name']) or ('OHG' in row['Company Name']) or \\\n",
    "                ('SE' in row['Company Name']) or ('KG' in row['Company Name']):\n",
    "            skip_item = False\n",
    "        else:\n",
    "            skip_item = True\n",
    "            print('skipped!')\n",
    "\n",
    "        # get search results\n",
    "        if not skip_item:\n",
    "            try:\n",
    "                df = get_search_results(row['Company Name'])\n",
    "                df.to_csv('scraped_data/INSOLVENCY_'+\"\".join(c for c in row['Company Name'] if c.isalnum() or c in keepcharacters).rstrip()+\".csv\", \\\n",
    "                    index=False, encoding='utf-8', sep=';', quoting=csv.QUOTE_ALL)\n",
    "            except Exception as e:\n",
    "                errors_occurred = errors_occured +  str(repr(e)) + \"\\n\"\n",
    "                if debug_prints:\n",
    "                    print('Some Error occured! Continue? y/y')\n",
    "                    print(e)\n",
    "                    test = input()\n",
    "                pass\n",
    "        \n",
    "        \n",
    "print(\"Done!\")\n",
    "if errors_occured != \"\":\n",
    "    print(\"The following errors occured:\")\n",
    "    print(errors_occured)"
   ]
  },
  {
   "cell_type": "markdown",
   "metadata": {},
   "source": [
    "### get documents of companies"
   ]
  },
  {
   "cell_type": "code",
   "execution_count": 76,
   "metadata": {
    "scrolled": true
   },
   "outputs": [
    {
     "name": "stdout",
     "output_type": "stream",
     "text": [
      "COMPANY: 7 / 106 -- KUNUNU_711media websolutions GmbH.csv\n",
      "next: 711media websolutions GmbH Stuttgart -- Dokument vom 04.12.2019 -- » Jahresabschluss zum Geschäftsjahr vom 01.01.2018 bis zum 31.12.2018\n"
     ]
    },
    {
     "data": {
      "image/png": "[encoded data removed]",
      "text/plain": [
       "<PIL.JpegImagePlugin.JpegImageFile image mode=RGB size=250x50 at 0x23F23AFCD48>"
      ]
     },
     "metadata": {},
     "output_type": "display_data"
    },
    {
     "name": "stdout",
     "output_type": "stream",
     "text": [
      "script\n",
      "solving\n"
     ]
    },
    {
     "data": {
      "image/png": "[encoded data removed]",
      "text/plain": [
       "<PIL.JpegImagePlugin.JpegImageFile image mode=RGB size=250x50 at 0x23F23AFCD48>"
      ]
     },
     "metadata": {},
     "output_type": "display_data"
    },
    {
     "name": "stdout",
     "output_type": "stream",
     "text": [
      "Resolving Captcha\n",
      "Resampling the Image\n"
     ]
    },
    {
     "ename": "TypeError",
     "evalue": "argument of type 'JpegImageFile' is not iterable",
     "output_type": "error",
     "traceback": [
      "\u001b[1;31m---------------------------------------------------------------------------\u001b[0m",
      "\u001b[1;31mTypeError\u001b[0m                                 Traceback (most recent call last)",
      "\u001b[1;32m~\\Documents\\GitHub\\capstone_project\\Bundesanzeiger Scraper\\Jan\\captcha_resolver.py\u001b[0m in \u001b[0;36m<module>\u001b[1;34m\u001b[0m\n\u001b[0;32m     45\u001b[0m                                 \u001b[0mprint\u001b[0m\u001b[1;33m(\u001b[0m\u001b[1;34m\"next:\"\u001b[0m\u001b[1;33m,\u001b[0m \u001b[0mrow\u001b[0m\u001b[1;33m[\u001b[0m\u001b[1;36m0\u001b[0m\u001b[1;33m]\u001b[0m\u001b[1;33m,\u001b[0m \u001b[1;34m\"-- Dokument vom\"\u001b[0m\u001b[1;33m,\u001b[0m \u001b[0mrow\u001b[0m\u001b[1;33m[\u001b[0m\u001b[1;36m3\u001b[0m\u001b[1;33m]\u001b[0m\u001b[1;33m,\u001b[0m \u001b[1;34m\"--\"\u001b[0m\u001b[1;33m,\u001b[0m \u001b[0mrow\u001b[0m\u001b[1;33m[\u001b[0m\u001b[1;36m2\u001b[0m\u001b[1;33m]\u001b[0m\u001b[1;33m)\u001b[0m\u001b[1;33m\u001b[0m\u001b[1;33m\u001b[0m\u001b[0m\n\u001b[0;32m     46\u001b[0m                                 \u001b[1;31m# here the document is requested:\u001b[0m\u001b[1;33m\u001b[0m\u001b[1;33m\u001b[0m\u001b[1;33m\u001b[0m\u001b[0m\n\u001b[1;32m---> 47\u001b[1;33m                                 \u001b[0mhtml_result\u001b[0m \u001b[1;33m=\u001b[0m \u001b[0mget_document\u001b[0m\u001b[1;33m(\u001b[0m\u001b[0mrow\u001b[0m\u001b[1;33m[\u001b[0m\u001b[1;36m6\u001b[0m\u001b[1;33m]\u001b[0m\u001b[1;33m,\u001b[0m \u001b[0mrow\u001b[0m\u001b[1;33m[\u001b[0m\u001b[1;36m7\u001b[0m\u001b[1;33m]\u001b[0m\u001b[1;33m)\u001b[0m\u001b[1;33m\u001b[0m\u001b[1;33m\u001b[0m\u001b[0m\n\u001b[0m\u001b[0;32m     48\u001b[0m                                 \u001b[1;32mif\u001b[0m \u001b[0mhtml_result\u001b[0m \u001b[1;33m==\u001b[0m \u001b[1;34m\"exit\"\u001b[0m\u001b[1;33m:\u001b[0m\u001b[1;33m\u001b[0m\u001b[1;33m\u001b[0m\u001b[0m\n\u001b[0;32m     49\u001b[0m                                     \u001b[0mabort_execution\u001b[0m \u001b[1;33m=\u001b[0m \u001b[1;32mTrue\u001b[0m\u001b[1;33m\u001b[0m\u001b[1;33m\u001b[0m\u001b[0m\n",
      "\u001b[1;32m~\\Documents\\GitHub\\capstone_project\\Bundesanzeiger Scraper\\Jan\\captcha_resolver.py\u001b[0m in \u001b[0;36mget_document\u001b[1;34m(search_list_selected, search_list_destHistoryId)\u001b[0m\n\u001b[0;32m     23\u001b[0m         \u001b[0mcaptcha_found\u001b[0m \u001b[1;33m=\u001b[0m \u001b[1;32mTrue\u001b[0m\u001b[1;33m\u001b[0m\u001b[1;33m\u001b[0m\u001b[0m\n\u001b[0;32m     24\u001b[0m         \u001b[0mcaptcha_solution\u001b[0m \u001b[1;33m=\u001b[0m \u001b[1;34m\"\"\u001b[0m\u001b[1;33m\u001b[0m\u001b[1;33m\u001b[0m\u001b[0m\n\u001b[1;32m---> 25\u001b[1;33m         \u001b[0mcaptcha_solution\u001b[0m \u001b[1;33m=\u001b[0m \u001b[0mget_captcha\u001b[0m\u001b[1;33m(\u001b[0m\u001b[0msession_id\u001b[0m\u001b[1;33m)\u001b[0m\u001b[1;33m\u001b[0m\u001b[1;33m\u001b[0m\u001b[0m\n\u001b[0m\u001b[0;32m     26\u001b[0m         \u001b[1;31m#if captcha_solution == \"\" or captcha_solution == \"exit\":\u001b[0m\u001b[1;33m\u001b[0m\u001b[1;33m\u001b[0m\u001b[1;33m\u001b[0m\u001b[0m\n\u001b[0;32m     27\u001b[0m         \u001b[1;32mif\u001b[0m \u001b[0mcaptcha_solution\u001b[0m \u001b[1;33m==\u001b[0m \u001b[1;34m\"exit\"\u001b[0m\u001b[1;33m:\u001b[0m\u001b[1;33m\u001b[0m\u001b[1;33m\u001b[0m\u001b[0m\n",
      "\u001b[1;32m~\\Documents\\GitHub\\capstone_project\\Bundesanzeiger Scraper\\Jan\\captcha_resolver.py\u001b[0m in \u001b[0;36mget_captcha\u001b[1;34m(session_id)\u001b[0m\n\u001b[0;32m     14\u001b[0m         \u001b[0mprint\u001b[0m\u001b[1;33m(\u001b[0m\u001b[1;34m\"script\"\u001b[0m\u001b[1;33m)\u001b[0m\u001b[1;33m\u001b[0m\u001b[1;33m\u001b[0m\u001b[0m\n\u001b[0;32m     15\u001b[0m         \u001b[1;31m#!python captcha_resolver.py\u001b[0m\u001b[1;33m\u001b[0m\u001b[1;33m\u001b[0m\u001b[1;33m\u001b[0m\u001b[0m\n\u001b[1;32m---> 16\u001b[1;33m         \u001b[0msolve_captcha\u001b[0m\u001b[1;33m(\u001b[0m\u001b[0mimg\u001b[0m\u001b[1;33m)\u001b[0m\u001b[1;33m\u001b[0m\u001b[1;33m\u001b[0m\u001b[0m\n\u001b[0m\u001b[0;32m     17\u001b[0m         \u001b[0mprint\u001b[0m\u001b[1;33m(\u001b[0m\u001b[1;34m\"script_done\"\u001b[0m\u001b[1;33m)\u001b[0m\u001b[1;33m\u001b[0m\u001b[1;33m\u001b[0m\u001b[0m\n\u001b[0;32m     18\u001b[0m         \u001b[0mprint\u001b[0m\u001b[1;33m(\u001b[0m\u001b[1;34m'Please solve this captcha. To cancel, type \"exit\"'\u001b[0m\u001b[1;33m)\u001b[0m\u001b[1;33m\u001b[0m\u001b[1;33m\u001b[0m\u001b[0m\n",
      "\u001b[1;32m~\\Documents\\GitHub\\capstone_project\\Bundesanzeiger Scraper\\Jan\\captcha_resolver.py\u001b[0m in \u001b[0;36msolve_captcha\u001b[1;34m(image_captcha)\u001b[0m\n\u001b[0;32m     19\u001b[0m         \u001b[1;31m#path = args.path\u001b[0m\u001b[1;33m\u001b[0m\u001b[1;33m\u001b[0m\u001b[1;33m\u001b[0m\u001b[0m\n\u001b[0;32m     20\u001b[0m         \u001b[0mprint\u001b[0m\u001b[1;33m(\u001b[0m\u001b[1;34m'Resolving Captcha'\u001b[0m\u001b[1;33m)\u001b[0m\u001b[1;33m\u001b[0m\u001b[1;33m\u001b[0m\u001b[0m\n\u001b[1;32m---> 21\u001b[1;33m         \u001b[0mcaptcha_text\u001b[0m \u001b[1;33m=\u001b[0m \u001b[0mresolve\u001b[0m\u001b[1;33m(\u001b[0m\u001b[0mimage_captcha\u001b[0m\u001b[1;33m)\u001b[0m\u001b[1;33m\u001b[0m\u001b[1;33m\u001b[0m\u001b[0m\n\u001b[0m\u001b[0;32m     22\u001b[0m         \u001b[0mprint\u001b[0m\u001b[1;33m(\u001b[0m\u001b[1;34m'Extracted Text'\u001b[0m\u001b[1;33m,\u001b[0m\u001b[0mcaptcha_text\u001b[0m\u001b[1;33m)\u001b[0m\u001b[1;33m\u001b[0m\u001b[1;33m\u001b[0m\u001b[0m\n",
      "\u001b[1;32m~\\Documents\\GitHub\\capstone_project\\Bundesanzeiger Scraper\\Jan\\captcha_resolver.py\u001b[0m in \u001b[0;36mresolve\u001b[1;34m(image_captcha)\u001b[0m\n\u001b[0;32m      9\u001b[0m     \u001b[1;32mdef\u001b[0m \u001b[0mresolve\u001b[0m\u001b[1;33m(\u001b[0m\u001b[0mimage_captcha\u001b[0m\u001b[1;33m)\u001b[0m\u001b[1;33m:\u001b[0m\u001b[1;33m\u001b[0m\u001b[1;33m\u001b[0m\u001b[0m\n\u001b[0;32m     10\u001b[0m         \u001b[0mprint\u001b[0m\u001b[1;33m(\u001b[0m\u001b[1;34m\"Resampling the Image\"\u001b[0m\u001b[1;33m)\u001b[0m\u001b[1;33m\u001b[0m\u001b[1;33m\u001b[0m\u001b[0m\n\u001b[1;32m---> 11\u001b[1;33m         \u001b[0mcheck_output\u001b[0m\u001b[1;33m(\u001b[0m\u001b[1;33m[\u001b[0m\u001b[1;34mr\"C:\\Program Files\\ImageMagick-7.0.10-Q16-HDRI\\magick.exe\"\u001b[0m\u001b[1;33m,\u001b[0m \u001b[0mimage_captcha\u001b[0m\u001b[1;33m,\u001b[0m \u001b[1;34m'-resample'\u001b[0m\u001b[1;33m,\u001b[0m \u001b[1;34m'600'\u001b[0m\u001b[1;33m,\u001b[0m \u001b[0mimage_captcha\u001b[0m\u001b[1;33m]\u001b[0m\u001b[1;33m)\u001b[0m\u001b[1;33m\u001b[0m\u001b[1;33m\u001b[0m\u001b[0m\n\u001b[0m\u001b[0;32m     12\u001b[0m         \u001b[1;32mreturn\u001b[0m \u001b[0mpytesseract\u001b[0m\u001b[1;33m.\u001b[0m\u001b[0mimage_to_string\u001b[0m\u001b[1;33m(\u001b[0m\u001b[0mImage\u001b[0m\u001b[1;33m.\u001b[0m\u001b[0mopen\u001b[0m\u001b[1;33m(\u001b[0m\u001b[0mimage_captcha\u001b[0m\u001b[1;33m)\u001b[0m\u001b[1;33m)\u001b[0m\u001b[1;33m\u001b[0m\u001b[1;33m\u001b[0m\u001b[0m\n\u001b[0;32m     13\u001b[0m     \u001b[0mdisplay\u001b[0m\u001b[1;33m(\u001b[0m\u001b[0mimage_captcha\u001b[0m\u001b[1;33m)\u001b[0m\u001b[1;33m\u001b[0m\u001b[1;33m\u001b[0m\u001b[0m\n",
      "\u001b[1;32m~\\Anaconda3\\lib\\subprocess.py\u001b[0m in \u001b[0;36mcheck_output\u001b[1;34m(timeout, *popenargs, **kwargs)\u001b[0m\n\u001b[0;32m    393\u001b[0m \u001b[1;33m\u001b[0m\u001b[0m\n\u001b[0;32m    394\u001b[0m     return run(*popenargs, stdout=PIPE, timeout=timeout, check=True,\n\u001b[1;32m--> 395\u001b[1;33m                **kwargs).stdout\n\u001b[0m\u001b[0;32m    396\u001b[0m \u001b[1;33m\u001b[0m\u001b[0m\n\u001b[0;32m    397\u001b[0m \u001b[1;33m\u001b[0m\u001b[0m\n",
      "\u001b[1;32m~\\Anaconda3\\lib\\subprocess.py\u001b[0m in \u001b[0;36mrun\u001b[1;34m(input, capture_output, timeout, check, *popenargs, **kwargs)\u001b[0m\n\u001b[0;32m    470\u001b[0m         \u001b[0mkwargs\u001b[0m\u001b[1;33m[\u001b[0m\u001b[1;34m'stderr'\u001b[0m\u001b[1;33m]\u001b[0m \u001b[1;33m=\u001b[0m \u001b[0mPIPE\u001b[0m\u001b[1;33m\u001b[0m\u001b[1;33m\u001b[0m\u001b[0m\n\u001b[0;32m    471\u001b[0m \u001b[1;33m\u001b[0m\u001b[0m\n\u001b[1;32m--> 472\u001b[1;33m     \u001b[1;32mwith\u001b[0m \u001b[0mPopen\u001b[0m\u001b[1;33m(\u001b[0m\u001b[1;33m*\u001b[0m\u001b[0mpopenargs\u001b[0m\u001b[1;33m,\u001b[0m \u001b[1;33m**\u001b[0m\u001b[0mkwargs\u001b[0m\u001b[1;33m)\u001b[0m \u001b[1;32mas\u001b[0m \u001b[0mprocess\u001b[0m\u001b[1;33m:\u001b[0m\u001b[1;33m\u001b[0m\u001b[1;33m\u001b[0m\u001b[0m\n\u001b[0m\u001b[0;32m    473\u001b[0m         \u001b[1;32mtry\u001b[0m\u001b[1;33m:\u001b[0m\u001b[1;33m\u001b[0m\u001b[1;33m\u001b[0m\u001b[0m\n\u001b[0;32m    474\u001b[0m             \u001b[0mstdout\u001b[0m\u001b[1;33m,\u001b[0m \u001b[0mstderr\u001b[0m \u001b[1;33m=\u001b[0m \u001b[0mprocess\u001b[0m\u001b[1;33m.\u001b[0m\u001b[0mcommunicate\u001b[0m\u001b[1;33m(\u001b[0m\u001b[0minput\u001b[0m\u001b[1;33m,\u001b[0m \u001b[0mtimeout\u001b[0m\u001b[1;33m=\u001b[0m\u001b[0mtimeout\u001b[0m\u001b[1;33m)\u001b[0m\u001b[1;33m\u001b[0m\u001b[1;33m\u001b[0m\u001b[0m\n",
      "\u001b[1;32m~\\Anaconda3\\lib\\subprocess.py\u001b[0m in \u001b[0;36m__init__\u001b[1;34m(self, args, bufsize, executable, stdin, stdout, stderr, preexec_fn, close_fds, shell, cwd, env, universal_newlines, startupinfo, creationflags, restore_signals, start_new_session, pass_fds, encoding, errors, text)\u001b[0m\n\u001b[0;32m    773\u001b[0m                                 \u001b[0mc2pread\u001b[0m\u001b[1;33m,\u001b[0m \u001b[0mc2pwrite\u001b[0m\u001b[1;33m,\u001b[0m\u001b[1;33m\u001b[0m\u001b[1;33m\u001b[0m\u001b[0m\n\u001b[0;32m    774\u001b[0m                                 \u001b[0merrread\u001b[0m\u001b[1;33m,\u001b[0m \u001b[0merrwrite\u001b[0m\u001b[1;33m,\u001b[0m\u001b[1;33m\u001b[0m\u001b[1;33m\u001b[0m\u001b[0m\n\u001b[1;32m--> 775\u001b[1;33m                                 restore_signals, start_new_session)\n\u001b[0m\u001b[0;32m    776\u001b[0m         \u001b[1;32mexcept\u001b[0m\u001b[1;33m:\u001b[0m\u001b[1;33m\u001b[0m\u001b[1;33m\u001b[0m\u001b[0m\n\u001b[0;32m    777\u001b[0m             \u001b[1;31m# Cleanup if the child failed starting.\u001b[0m\u001b[1;33m\u001b[0m\u001b[1;33m\u001b[0m\u001b[1;33m\u001b[0m\u001b[0m\n",
      "\u001b[1;32m~\\Anaconda3\\lib\\subprocess.py\u001b[0m in \u001b[0;36m_execute_child\u001b[1;34m(self, args, executable, preexec_fn, close_fds, pass_fds, cwd, env, startupinfo, creationflags, shell, p2cread, p2cwrite, c2pread, c2pwrite, errread, errwrite, unused_restore_signals, unused_start_new_session)\u001b[0m\n\u001b[0;32m   1117\u001b[0m \u001b[1;33m\u001b[0m\u001b[0m\n\u001b[0;32m   1118\u001b[0m             \u001b[1;32mif\u001b[0m \u001b[1;32mnot\u001b[0m \u001b[0misinstance\u001b[0m\u001b[1;33m(\u001b[0m\u001b[0margs\u001b[0m\u001b[1;33m,\u001b[0m \u001b[0mstr\u001b[0m\u001b[1;33m)\u001b[0m\u001b[1;33m:\u001b[0m\u001b[1;33m\u001b[0m\u001b[1;33m\u001b[0m\u001b[0m\n\u001b[1;32m-> 1119\u001b[1;33m                 \u001b[0margs\u001b[0m \u001b[1;33m=\u001b[0m \u001b[0mlist2cmdline\u001b[0m\u001b[1;33m(\u001b[0m\u001b[0margs\u001b[0m\u001b[1;33m)\u001b[0m\u001b[1;33m\u001b[0m\u001b[1;33m\u001b[0m\u001b[0m\n\u001b[0m\u001b[0;32m   1120\u001b[0m \u001b[1;33m\u001b[0m\u001b[0m\n\u001b[0;32m   1121\u001b[0m             \u001b[1;31m# Process startup details\u001b[0m\u001b[1;33m\u001b[0m\u001b[1;33m\u001b[0m\u001b[1;33m\u001b[0m\u001b[0m\n",
      "\u001b[1;32m~\\Anaconda3\\lib\\subprocess.py\u001b[0m in \u001b[0;36mlist2cmdline\u001b[1;34m(seq)\u001b[0m\n\u001b[0;32m    528\u001b[0m             \u001b[0mresult\u001b[0m\u001b[1;33m.\u001b[0m\u001b[0mappend\u001b[0m\u001b[1;33m(\u001b[0m\u001b[1;34m' '\u001b[0m\u001b[1;33m)\u001b[0m\u001b[1;33m\u001b[0m\u001b[1;33m\u001b[0m\u001b[0m\n\u001b[0;32m    529\u001b[0m \u001b[1;33m\u001b[0m\u001b[0m\n\u001b[1;32m--> 530\u001b[1;33m         \u001b[0mneedquote\u001b[0m \u001b[1;33m=\u001b[0m \u001b[1;33m(\u001b[0m\u001b[1;34m\" \"\u001b[0m \u001b[1;32min\u001b[0m \u001b[0marg\u001b[0m\u001b[1;33m)\u001b[0m \u001b[1;32mor\u001b[0m \u001b[1;33m(\u001b[0m\u001b[1;34m\"\\t\"\u001b[0m \u001b[1;32min\u001b[0m \u001b[0marg\u001b[0m\u001b[1;33m)\u001b[0m \u001b[1;32mor\u001b[0m \u001b[1;32mnot\u001b[0m \u001b[0marg\u001b[0m\u001b[1;33m\u001b[0m\u001b[1;33m\u001b[0m\u001b[0m\n\u001b[0m\u001b[0;32m    531\u001b[0m         \u001b[1;32mif\u001b[0m \u001b[0mneedquote\u001b[0m\u001b[1;33m:\u001b[0m\u001b[1;33m\u001b[0m\u001b[1;33m\u001b[0m\u001b[0m\n\u001b[0;32m    532\u001b[0m             \u001b[0mresult\u001b[0m\u001b[1;33m.\u001b[0m\u001b[0mappend\u001b[0m\u001b[1;33m(\u001b[0m\u001b[1;34m'\"'\u001b[0m\u001b[1;33m)\u001b[0m\u001b[1;33m\u001b[0m\u001b[1;33m\u001b[0m\u001b[0m\n",
      "\u001b[1;31mTypeError\u001b[0m: argument of type 'JpegImageFile' is not iterable"
     ]
    }
   ],
   "source": [
    "# get list of all files in folder 'scraped_data'\n",
    "for root, dirs, files in os.walk('scraped_data'):\n",
    "    document_list = files\n",
    "    pass\n",
    "\n",
    "debug_prints = False\n",
    "abort_execution = False\n",
    "skip_item = False\n",
    "\n",
    "regex1 = re.compile(r'bis zum \\d{2}\\.\\d{2}\\.(\\d{4})')\n",
    "current_filename = \"\"\n",
    "if 'document_list' in globals() or 'document_list' in locals():\n",
    "    count_of_csvs = len([item for item in document_list if item.endswith('.csv')])\n",
    "csv_counter = 1\n",
    "\n",
    "# for company name sanitizing\n",
    "keepcharacters = (' ','.','_', '-')\n",
    "\n",
    "if 'document_list' in globals() or 'document_list' in locals():\n",
    "    for item in document_list:\n",
    "        clear_output(wait=True)\n",
    "        print(\"COMPANY:\", csv_counter, \"/\", count_of_csvs, \"--\", item)\n",
    "        if item.endswith('.csv'):   \n",
    "            try:\n",
    "                df = pd.read_csv('scraped_data/'+item, sep=\";\")\n",
    "                skip_item = False\n",
    "            except FileNotFoundError:\n",
    "                print(\"file not found!\")\n",
    "                skip_item = True\n",
    "        else:\n",
    "            skip_item = True\n",
    "\n",
    "        if not skip_item: \n",
    "            csv_counter = csv_counter + 1\n",
    "            for index, row in df.iterrows():\n",
    "                if row[0] != \"Suche - kein Suchergebnis\" and isinstance(row[2], str):\n",
    "                    # filename like '%searchstring%_%documentdate%.html'\n",
    "                    current_filename = \"\".join(c for c in item if c.isalnum() or c in keepcharacters).rstrip()+\"_\"+row[3]+\".html\"\n",
    "                    # if the file for the current document does NOT exist, request it\n",
    "                    # else, the document will not be requested -- this avoids double work\n",
    "                    if not os.path.exists(os.path.join('scraped_data', current_filename)):\n",
    "                        t = regex1.search(row[2])\n",
    "                        if t is not None:\n",
    "                            if int(t.group()[-4:]) >= 2018: \n",
    "                                print(\"next:\", row[0], \"-- Dokument vom\", row[3], \"--\", row[2])\n",
    "                                # here the document is requested:\n",
    "                                html_result = get_document(row[6], row[7])\n",
    "                                if html_result == \"exit\":\n",
    "                                    abort_execution = True\n",
    "                                    print(\"Execution was aborted!\")\n",
    "                                    break\n",
    "                                elif html_result != \"\":\n",
    "                                    # filename like '%searchstring%_%documentdate%.html'\n",
    "                                    with open(os.path.join('scraped_data', current_filename), \"w\", encoding='utf-8') as file:\n",
    "                                        file.write(str(html_result))\n",
    "                    else:\n",
    "                        print(\"file already exists!\")\n",
    "                else:\n",
    "                    break\n",
    "            if abort_execution: \n",
    "                break\n",
    "\n",
    "    \n",
    "    #   . for loop ends here\n",
    "            \n",
    "print(\"Done!\")"
   ]
  },
  {
   "cell_type": "markdown",
   "metadata": {},
   "source": [
    "### Error Handling: Removing html documents with content \"invalid\""
   ]
  },
  {
   "cell_type": "code",
   "execution_count": 20,
   "metadata": {
    "scrolled": true
   },
   "outputs": [
    {
     "ename": "NameError",
     "evalue": "name 'document_list' is not defined",
     "output_type": "error",
     "traceback": [
      "\u001b[1;31m---------------------------------------------------------------------------\u001b[0m",
      "\u001b[1;31mNameError\u001b[0m                                 Traceback (most recent call last)",
      "\u001b[1;32m<ipython-input-20-02f6e9e0d946>\u001b[0m in \u001b[0;36m<module>\u001b[1;34m\u001b[0m\n\u001b[0;32m      7\u001b[0m \u001b[0mskip_item\u001b[0m \u001b[1;33m=\u001b[0m \u001b[1;32mFalse\u001b[0m\u001b[1;33m\u001b[0m\u001b[1;33m\u001b[0m\u001b[0m\n\u001b[0;32m      8\u001b[0m \u001b[1;33m\u001b[0m\u001b[0m\n\u001b[1;32m----> 9\u001b[1;33m \u001b[0mcount_of_htmls\u001b[0m \u001b[1;33m=\u001b[0m \u001b[0mlen\u001b[0m\u001b[1;33m(\u001b[0m\u001b[1;33m[\u001b[0m\u001b[0mitem\u001b[0m \u001b[1;32mfor\u001b[0m \u001b[0mitem\u001b[0m \u001b[1;32min\u001b[0m \u001b[0mdocument_list\u001b[0m \u001b[1;32mif\u001b[0m \u001b[0mitem\u001b[0m\u001b[1;33m.\u001b[0m\u001b[0mendswith\u001b[0m\u001b[1;33m(\u001b[0m\u001b[1;34m'.html'\u001b[0m\u001b[1;33m)\u001b[0m\u001b[1;33m]\u001b[0m\u001b[1;33m)\u001b[0m\u001b[1;33m+\u001b[0m\u001b[1;36m1\u001b[0m\u001b[1;33m\u001b[0m\u001b[1;33m\u001b[0m\u001b[0m\n\u001b[0m\u001b[0;32m     10\u001b[0m \u001b[0mhtml_counter\u001b[0m \u001b[1;33m=\u001b[0m \u001b[1;36m1\u001b[0m\u001b[1;33m\u001b[0m\u001b[1;33m\u001b[0m\u001b[0m\n\u001b[0;32m     11\u001b[0m \u001b[0mdeleted_counter\u001b[0m \u001b[1;33m=\u001b[0m \u001b[1;36m0\u001b[0m\u001b[1;33m\u001b[0m\u001b[1;33m\u001b[0m\u001b[0m\n",
      "\u001b[1;31mNameError\u001b[0m: name 'document_list' is not defined"
     ]
    }
   ],
   "source": [
    "# get list of all files in folder 'scraped_data'\n",
    "for root, dirs, files in os.walk('scraped_data'):\n",
    "    document_list = files\n",
    "    \n",
    "debug_prints = False\n",
    "abort_execution = False\n",
    "skip_item = False\n",
    "\n",
    "count_of_htmls = len([item for item in document_list if item.endswith('.html')])+1\n",
    "html_counter = 1\n",
    "deleted_counter = 0\n",
    "\n",
    "for item in document_list:\n",
    "    clear_output(wait=True)\n",
    "    print(\"Document:\", html_counter, \"/\", count_of_htmls, \"--\", item)\n",
    "    \n",
    "    if item.endswith('.html'):   \n",
    "        try:\n",
    "            with open('scraped_data/'+item) as file:\n",
    "                soup = BeautifulSoup(file)\n",
    "            skip_item = False\n",
    "        except Exception as EError:\n",
    "            print(\"An Error occured!\", repr(EError))\n",
    "            skip_item = True\n",
    "    else:\n",
    "        skip_item = True\n",
    "\n",
    "    if not skip_item: \n",
    "        html_counter = html_counter + 1\n",
    "        invalid_id = soup.findAll(class_='invalid')\n",
    "        if invalid_id:\n",
    "            print('this document is invalid. Will be deleted now')\n",
    "            try:\n",
    "                if os.path.isfile('scraped_data/'+item):\n",
    "                    os.remove('scraped_data/'+item)\n",
    "                    deleted_counter = deleted_counter+1\n",
    "            except Exception as e:\n",
    "                print(\"An Error occured!\", repr(e))\n",
    "                pass\n",
    "            \n",
    "print(\"Done!\")\n",
    "print(\"Deleted\", deleted_counter, \"files because they were invalid.\")"
   ]
  },
  {
   "cell_type": "code",
   "execution_count": null,
   "metadata": {},
   "outputs": [],
   "source": []
  },
  {
   "cell_type": "code",
   "execution_count": null,
   "metadata": {},
   "outputs": [],
   "source": []
  },
  {
   "cell_type": "code",
   "execution_count": null,
   "metadata": {},
   "outputs": [],
   "source": []
  }
 ],
 "metadata": {
  "kernelspec": {
   "display_name": "Python 3",
   "language": "python",
   "name": "python3"
  },
  "language_info": {
   "codemirror_mode": {
    "name": "ipython",
    "version": 3
   },
   "file_extension": ".py",
   "mimetype": "text/x-python",
   "name": "python",
   "nbconvert_exporter": "python",
   "pygments_lexer": "ipython3",
   "version": "3.7.4"
  }
 },
 "nbformat": 4,
 "nbformat_minor": 2
}
